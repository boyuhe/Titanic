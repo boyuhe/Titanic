{
 "cells": [
  {
   "cell_type": "code",
   "execution_count": 1,
   "metadata": {},
   "outputs": [],
   "source": [
    "import numpy as np\n",
    "import os\n",
    "os.chdir('/Users/magictavern/Documents/kaggkle/all')\n",
    "import pandas as pd\n",
    "from sklearn.ensemble import GradientBoostingClassifier\n",
    "from sklearn.model_selection import train_test_split, cross_val_score,GridSearchCV\n",
    "from sklearn.linear_model import LogisticRegression\n",
    "from sklearn.neighbors import KNeighborsClassifier\n",
    "from sklearn.ensemble import RandomForestClassifier\n",
    "from sklearn.metrics import accuracy_score"
   ]
  },
  {
   "cell_type": "code",
   "execution_count": 2,
   "metadata": {},
   "outputs": [
    {
     "name": "stderr",
     "output_type": "stream",
     "text": [
      "/Users/magictavern/anaconda3/lib/python3.6/site-packages/ipykernel_launcher.py:3: FutureWarning: Sorting because non-concatenation axis is not aligned. A future version\n",
      "of pandas will change to not sort by default.\n",
      "\n",
      "To accept the future behavior, pass 'sort=False'.\n",
      "\n",
      "To retain the current behavior and silence the warning, pass 'sort=True'.\n",
      "\n",
      "  This is separate from the ipykernel package so we can avoid doing imports until\n"
     ]
    }
   ],
   "source": [
    "test = pd.read_csv('test.csv')\n",
    "train= pd.read_csv('train.csv')\n",
    "full=pd.concat([train,test],ignore_index=True)"
   ]
  },
  {
   "cell_type": "code",
   "execution_count": 4,
   "metadata": {},
   "outputs": [
    {
     "name": "stdout",
     "output_type": "stream",
     "text": [
      "S    916\n",
      "C    270\n",
      "Q    123\n",
      "Name: Embarked, dtype: int64\n"
     ]
    }
   ],
   "source": [
    "full.Age=full.Age.fillna(full.Age.mean())\n",
    "full.Fare=full.Fare.fillna(full.Fare.mean())\n",
    "print(full.Embarked.value_counts())"
   ]
  },
  {
   "cell_type": "code",
   "execution_count": 6,
   "metadata": {},
   "outputs": [
    {
     "name": "stdout",
     "output_type": "stream",
     "text": [
      "S    1014\n",
      "C      94\n",
      "B      65\n",
      "D      46\n",
      "E      41\n",
      "A      22\n",
      "F      21\n",
      "G       5\n",
      "T       1\n",
      "Name: Cabin, dtype: int64\n"
     ]
    }
   ],
   "source": [
    "full.Embarked=full.Embarked.fillna('S')\n",
    "full.Cabin=full.Cabin.fillna('S')\n",
    "full.Cabin=full.Cabin.map(lambda x: x[0])\n",
    "print(full.Cabin.value_counts())"
   ]
  },
  {
   "cell_type": "code",
   "execution_count": 7,
   "metadata": {},
   "outputs": [],
   "source": [
    "CabinDf=pd.get_dummies(full.Cabin,prefix='Cabin')\n",
    "EmbarkedDf=pd.get_dummies(full.Embarked,prefix='Embarked')\n",
    "def GetT(x):\n",
    "    y=x.split(',')[1]\n",
    "    z=y.split('.')[0]\n",
    "    return z.strip( )#去除空格\n",
    "full.Name=full.Name.map(GetT)\n",
    "title_mapDict={ 'Capt':'Officer', 'Col':'Officer','Major':'Officer','Dr':'Officer','Don':'Royalty','Jonkeer':'Royalty','Sir':'Royalty','Rev':'Officer',\n",
    "               'the Countess':'Royalty','Mme':'Mrs','Mile':'Miss','Ms':'Mrs','Mr':'Mr','Mrs':'Mrs','Miss':'Miss','Master':'Master','Lady':'Royalty','Dona':'Royalty'}\n",
    "full.Name=full.Name.map(title_mapDict)\n",
    "NameDf=pd.get_dummies(full.Name,prefix='Name')\n",
    "PclassDf=pd.get_dummies(full.Pclass,prefix='Pclass')\n",
    "SexDf=pd.get_dummies(full.Sex)"
   ]
  },
  {
   "cell_type": "code",
   "execution_count": 8,
   "metadata": {},
   "outputs": [
    {
     "name": "stdout",
     "output_type": "stream",
     "text": [
      "1     790\n",
      "2     235\n",
      "3     159\n",
      "4      43\n",
      "6      25\n",
      "5      22\n",
      "7      16\n",
      "11     11\n",
      "8       8\n",
      "Name: FamilySize, dtype: int64\n",
      "Embarked_Q      0.003650\n",
      "PassengerId     0.005007\n",
      "Cabin_G         0.016040\n",
      "FamilySize      0.016639\n",
      "Cabin_A         0.022287\n",
      "Cabin_T         0.026456\n",
      "FamilyLarge     0.029945\n",
      "Name_Officer    0.031316\n",
      "SibSp           0.035322\n",
      "Name_Royalty    0.050561\n",
      "Cabin_F         0.057935\n",
      "Age             0.070323\n",
      "Parch           0.081629\n",
      "Name_Master     0.085221\n",
      "Pclass_2        0.093349\n",
      "Cabin_C         0.114652\n",
      "Cabin_E         0.145321\n",
      "Embarked_S      0.149683\n",
      "Cabin_D         0.150716\n",
      "Embarked_C      0.168240\n",
      "Cabin_B         0.175095\n",
      "FamilySingle    0.203367\n",
      "FamilySmall     0.238059\n",
      "Fare            0.257307\n",
      "Pclass_1        0.285904\n",
      "Cabin_S         0.316912\n",
      "Pclass_3        0.322308\n",
      "Name_Miss       0.327093\n",
      "Name_Mrs        0.344935\n",
      "female          0.543351\n",
      "male            0.543351\n",
      "Name_Mr         0.549199\n",
      "Survived        1.000000\n",
      "Name: Survived, dtype: float64\n"
     ]
    }
   ],
   "source": [
    "FamilyDf=pd.DataFrame()\n",
    "FamilyDf['FamilySize']=full.SibSp+full.Parch+1\n",
    "print(FamilyDf.FamilySize.value_counts())\n",
    "FamilyDf['FamilySingle']=FamilyDf.FamilySize.map( lambda x : 1 if x<=1 else 0)\n",
    "FamilyDf['FamilySmall']=FamilyDf.FamilySize.map( lambda x : 1 if 1 <x<=3 else 0)\n",
    "FamilyDf['FamilyLarge']=FamilyDf.FamilySize.map( lambda x : 1 if  x>3 else 0)\n",
    "full=pd.concat([full,CabinDf,EmbarkedDf,NameDf,PclassDf,FamilyDf,SexDf],axis=1)\n",
    "full.drop(['Cabin','Embarked','Name','Pclass','Sex'],axis=1,inplace=True)\n",
    "print(full.corr().Survived.abs().sort_values())\n",
    "full.drop(columns='Ticket',inplace=True)"
   ]
  },
  {
   "cell_type": "code",
   "execution_count": 9,
   "metadata": {},
   "outputs": [],
   "source": [
    "X=full.loc[:890,full.columns!='Survived']\n",
    "y=full.loc[:890,'Survived']"
   ]
  },
  {
   "cell_type": "code",
   "execution_count": 11,
   "metadata": {
    "scrolled": false
   },
   "outputs": [
    {
     "name": "stdout",
     "output_type": "stream",
     "text": [
      "网格搜索-最佳度量值: 0.5420950109799387\n",
      "网格搜索-最佳参数： {'n_neighbors': 8, 'weights': 'distance'}\n",
      "网格搜索-最佳模型： KNeighborsClassifier(algorithm='auto', leaf_size=30, metric='minkowski',\n",
      "           metric_params=None, n_jobs=None, n_neighbors=8, p=2,\n",
      "           weights='distance')\n"
     ]
    }
   ],
   "source": [
    "param_test1 = {'n_neighbors':range(2,10),'weights':['uniform', 'distance']}\n",
    "gsearch1 = GridSearchCV(estimator = KNeighborsClassifier(), \n",
    "                       param_grid = param_test1, scoring='roc_auc',iid=True,cv=10)\n",
    "gsearch1.fit(X,y)\n",
    "print('网格搜索-最佳度量值:',gsearch1.best_score_)  \n",
    "print('网格搜索-最佳参数：',gsearch1.best_params_)  \n",
    "print('网格搜索-最佳模型：',gsearch1.best_estimator_) "
   ]
  },
  {
   "cell_type": "code",
   "execution_count": 12,
   "metadata": {},
   "outputs": [
    {
     "name": "stdout",
     "output_type": "stream",
     "text": [
      "网格搜索-最佳度量值: 0.8706058326016073\n",
      "网格搜索-最佳参数： {'n_estimators': 500}\n",
      "网格搜索-最佳模型： RandomForestClassifier(bootstrap=True, class_weight=None, criterion='gini',\n",
      "            max_depth=None, max_features='auto', max_leaf_nodes=None,\n",
      "            min_impurity_decrease=0.0, min_impurity_split=None,\n",
      "            min_samples_leaf=1, min_samples_split=2,\n",
      "            min_weight_fraction_leaf=0.0, n_estimators=500, n_jobs=None,\n",
      "            oob_score=False, random_state=None, verbose=0,\n",
      "            warm_start=False)\n"
     ]
    }
   ],
   "source": [
    "param_test1 = {'n_estimators':range(100,1000,100)}\n",
    "gsearch1 = GridSearchCV(estimator = RandomForestClassifier(), \n",
    "                       param_grid = param_test1, scoring='roc_auc',cv=10)\n",
    "gsearch1.fit(X,y)\n",
    "print('网格搜索-最佳度量值:',gsearch1.best_score_)  \n",
    "print('网格搜索-最佳参数：',gsearch1.best_params_)  \n",
    "print('网格搜索-最佳模型：',gsearch1.best_estimator_) "
   ]
  },
  {
   "cell_type": "code",
   "execution_count": 14,
   "metadata": {
    "scrolled": false
   },
   "outputs": [
    {
     "name": "stdout",
     "output_type": "stream",
     "text": [
      "网格搜索-最佳度量值: 0.87254137447245\n",
      "网格搜索-最佳参数： {'max_depth': 7, 'max_features': 0.30000000000000004}\n",
      "网格搜索-最佳模型： RandomForestClassifier(bootstrap=True, class_weight=None, criterion='gini',\n",
      "            max_depth=7, max_features=0.30000000000000004,\n",
      "            max_leaf_nodes=None, min_impurity_decrease=0.0,\n",
      "            min_impurity_split=None, min_samples_leaf=1,\n",
      "            min_samples_split=2, min_weight_fraction_leaf=0.0,\n",
      "            n_estimators=500, n_jobs=None, oob_score=False,\n",
      "            random_state=None, verbose=0, warm_start=False)\n"
     ]
    }
   ],
   "source": [
    "param_test2 = {'max_depth':range(3,14,2),'max_features':np.arange(0.1,1,0.2)}\n",
    "gsearch2 = GridSearchCV(estimator = RandomForestClassifier(n_estimators= 500),\n",
    "   param_grid = param_test2, scoring='roc_auc', cv=10)\n",
    "gsearch2.fit(X,y)\n",
    "print('网格搜索-最佳度量值:',gsearch2.best_score_) \n",
    "print('网格搜索-最佳参数：',gsearch2.best_params_)  \n",
    "print('网格搜索-最佳模型：',gsearch2.best_estimator_)  "
   ]
  },
  {
   "cell_type": "code",
   "execution_count": 16,
   "metadata": {},
   "outputs": [],
   "source": [
    "RFC_Model=gsearch2.best_estimator_\n",
    "RFC_Model.fit(X,y)\n",
    "pred_X=full.loc[891:,full.columns!='Survived']\n",
    "pred_y=pd.DataFrame(RFC_Model.predict(pred_X),index=pred_X.PassengerId)\n",
    "pred_y.rename(columns={0:'Survived'},inplace=True)\n",
    "pred_y.reset_index(inplace=True)\n",
    "pred_y=pred_y.astype(int)\n",
    "pred_y.to_csv('titanic_pred6.csv',index=False)"
   ]
  },
  {
   "cell_type": "code",
   "execution_count": null,
   "metadata": {},
   "outputs": [],
   "source": []
  },
  {
   "cell_type": "code",
   "execution_count": null,
   "metadata": {},
   "outputs": [],
   "source": []
  }
 ],
 "metadata": {
  "kernelspec": {
   "display_name": "Python 3",
   "language": "python",
   "name": "python3"
  },
  "language_info": {
   "codemirror_mode": {
    "name": "ipython",
    "version": 3
   },
   "file_extension": ".py",
   "mimetype": "text/x-python",
   "name": "python",
   "nbconvert_exporter": "python",
   "pygments_lexer": "ipython3",
   "version": "3.6.7"
  }
 },
 "nbformat": 4,
 "nbformat_minor": 2
}
